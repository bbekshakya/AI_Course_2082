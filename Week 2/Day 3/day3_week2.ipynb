{
  "nbformat": 4,
  "nbformat_minor": 0,
  "metadata": {
    "colab": {
      "provenance": []
    },
    "kernelspec": {
      "name": "python3",
      "display_name": "Python 3"
    },
    "language_info": {
      "name": "python"
    }
  },
  "cells": [
    {
      "cell_type": "markdown",
      "source": [
        "# Hands-On Practice: Probability Basics for AI"
      ],
      "metadata": {
        "id": "Nm_7B4Ex9H_q"
      }
    },
    {
      "cell_type": "markdown",
      "source": [
        "## EXERCISE1: THEORETICAL PROBABILITY"
      ],
      "metadata": {
        "id": "jGn0JatA9OLv"
      }
    },
    {
      "cell_type": "code",
      "execution_count": null,
      "metadata": {
        "colab": {
          "base_uri": "https://localhost:8080/"
        },
        "id": "ZEEY81D56fGg",
        "outputId": "900894a6-2bed-4ecb-b4fd-6e6bf5b2c182"
      },
      "outputs": [
        {
          "output_type": "stream",
          "name": "stdout",
          "text": [
            "0.16666666666666666\n"
          ]
        }
      ],
      "source": [
        "# Declaring fav and total outcome for rolling 1 on a die!\n",
        "favourable_outcome = 1\n",
        "total_outcome = 6\n",
        "\n",
        "probability = favourable_outcome/total_outcome\n",
        "print(probability)\n",
        "\n",
        "# Task 1: Calculate the theoretical probability of drawing a red card from a\n",
        "# standard deck of 52 cards (26 red cards). Print the result."
      ]
    },
    {
      "cell_type": "code",
      "source": [
        "# Declaring fav and total outcome for rolling 1 on die!\n",
        "favourable_outcome = 1\n",
        "total_outcome = 6\n",
        "\n",
        "probability = favourable_outcome/total_outcome\n",
        "print(probability)"
      ],
      "metadata": {
        "colab": {
          "base_uri": "https://localhost:8080/"
        },
        "id": "gudwUf0LClGb",
        "outputId": "0d950971-008a-472c-a268-99a42e18aa8e"
      },
      "execution_count": null,
      "outputs": [
        {
          "output_type": "stream",
          "name": "stdout",
          "text": [
            "0.16666666666666666\n"
          ]
        }
      ]
    },
    {
      "cell_type": "code",
      "source": [
        "# Task 1: Calculate the theoretical probability of drawing a red card from a\n",
        "# standard deck of 52 cards (26 red cards). Print the result.\n",
        "favourable_outcome = 26\n",
        "total_outcome = 52\n",
        "\n",
        "probability = favourable_outcome/total_outcome\n",
        "print(probability)"
      ],
      "metadata": {
        "colab": {
          "base_uri": "https://localhost:8080/"
        },
        "id": "u0bS1RKTJaQL",
        "outputId": "407b7c89-23f7-4901-8417-a6ace01f6a7c"
      },
      "execution_count": null,
      "outputs": [
        {
          "output_type": "stream",
          "name": "stdout",
          "text": [
            "0.5\n"
          ]
        }
      ]
    },
    {
      "cell_type": "markdown",
      "source": [
        "## EXPERIMENTAL PROBABILITY"
      ],
      "metadata": {
        "id": "CoFB4BvoJ80o"
      }
    },
    {
      "cell_type": "code",
      "source": [
        "import random\n",
        "\n",
        "trials = 100\n",
        "heads =  0\n",
        "\n",
        "for _ in range(trials):\n",
        "  if random.choice([\"Heads\", \"Tails\"]) == \"Heads\":\n",
        "    heads+= 1\n",
        "probability = heads/trials\n",
        "print(probability)"
      ],
      "metadata": {
        "colab": {
          "base_uri": "https://localhost:8080/"
        },
        "id": "aEq5jysiJy4i",
        "outputId": "17c757ed-09e7-43e7-eddc-67a44e30ab6f"
      },
      "execution_count": null,
      "outputs": [
        {
          "output_type": "stream",
          "name": "stdout",
          "text": [
            "0.49\n"
          ]
        }
      ]
    },
    {
      "cell_type": "code",
      "source": [
        "import random\n",
        "\n",
        "trails = 100\n",
        "heads = 0\n",
        "\n",
        "for _ in range(trails):\n",
        "  if random.choice([\"Heads\", \"Tails\"]) == \"Heads\":\n",
        "    heads += 1\n",
        "probability = heads/trails\n",
        "print(probability)"
      ],
      "metadata": {
        "colab": {
          "base_uri": "https://localhost:8080/"
        },
        "id": "6-pDMSC_DFkq",
        "outputId": "f70ce9c4-3f67-4ab9-dd00-90478714423e"
      },
      "execution_count": null,
      "outputs": [
        {
          "output_type": "stream",
          "name": "stdout",
          "text": [
            "0.52\n"
          ]
        }
      ]
    },
    {
      "cell_type": "markdown",
      "source": [
        "## EXERCISE: 3 CONDITIONAL PROBABILITY"
      ],
      "metadata": {
        "id": "ofanp9-INW8o"
      }
    },
    {
      "cell_type": "code",
      "source": [
        "face_cards = 12\n",
        "king = 4\n",
        "cond_prob = king / face_cards\n",
        "print(\"Probability of getting a king given it is a face card is\",cond_prob)"
      ],
      "metadata": {
        "id": "PpaVLtbiMJir"
      },
      "execution_count": null,
      "outputs": []
    },
    {
      "cell_type": "code",
      "source": [
        "face_cards = 12\n",
        "king = 4\n",
        "cond_prob = king / face_cards\n",
        "print(\"Probability of getting a king given it is a face card is\",cond_prob)"
      ],
      "metadata": {
        "colab": {
          "base_uri": "https://localhost:8080/"
        },
        "id": "uqpiLrRODvP7",
        "outputId": "1d7c5be8-373f-4b5a-b79c-583f5e8341c5"
      },
      "execution_count": null,
      "outputs": [
        {
          "output_type": "stream",
          "name": "stdout",
          "text": [
            "Probability of getting a king given it is a face card is 0.3333333333333333\n"
          ]
        }
      ]
    },
    {
      "cell_type": "code",
      "source": [
        "#IN-CLASS TASK\n",
        "# A standard deck has 52 cards. There are 12 face cards (Jack, Queen, King – 4 of each).\n",
        "# What is the probability that a card is a King given that it’s a face card?\n",
        "\n",
        "# Out of 100 days, it rained on 30 days.\n",
        "# On 25 of those rainy days, a person carried an umbrella.\n",
        "# What is the probability that they carried an umbrella given that it was raining?\n",
        "\n",
        "# Out of 80 students, 50 studied for the exam.\n",
        "# Out of those 50, 45 passed.\n",
        "# What is the probability a student passed given that they studied?"
      ],
      "metadata": {
        "id": "LlC85ODzOTzo"
      },
      "execution_count": null,
      "outputs": []
    },
    {
      "cell_type": "code",
      "source": [
        "# A standard deck has 52 cards. There are 12 face cards (Jack, Queen, King – 4 of each).\n",
        "# What is the probability that a card is a King given that it’s a face card?\n",
        "\n",
        "face_cards = 12\n",
        "king = 4\n",
        "cond_prob = king / face_cards\n",
        "print(\"Probability of getting a king given it is a face card is\",cond_prob)"
      ],
      "metadata": {
        "colab": {
          "base_uri": "https://localhost:8080/"
        },
        "id": "WttD8LbxKNfX",
        "outputId": "819b018c-569a-49b5-9f25-2fd428f93599"
      },
      "execution_count": null,
      "outputs": [
        {
          "output_type": "stream",
          "name": "stdout",
          "text": [
            "Probability of getting a king given it is a face card is 0.3333333333333333\n"
          ]
        }
      ]
    },
    {
      "cell_type": "code",
      "source": [
        "#Out of 100 days, it rained on 30 days.\n",
        "# On 25 of those rainy days, a person carried an umbrella.\n",
        "# What is the probability that they carried an umbrella given that it was raining?\n",
        "\n",
        "total_days = 100\n",
        "rainy_days = 30\n",
        "umbrella_days = 25\n",
        "cond_prob = umbrella_days / rainy_days\n",
        "print(\"Probability of getting an umbrella given it was raining is\",cond_prob)\n"
      ],
      "metadata": {
        "colab": {
          "base_uri": "https://localhost:8080/"
        },
        "id": "CUu3UoyAK1VS",
        "outputId": "0447b247-2104-4e65-a97e-a1d9c94f6de7"
      },
      "execution_count": null,
      "outputs": [
        {
          "output_type": "stream",
          "name": "stdout",
          "text": [
            "Probability of getting an umbrella given it was raining is 0.8333333333333334\n"
          ]
        }
      ]
    },
    {
      "cell_type": "markdown",
      "source": [
        "## Exercise 4: Addition Rule"
      ],
      "metadata": {
        "id": "7A2tGDPHRMoK"
      }
    },
    {
      "cell_type": "code",
      "source": [
        "#Mutually exclusive events\n",
        "\n",
        "prob_even = 3 / 6\n",
        "prob_one = 1 / 6\n",
        "\n",
        "prob_even_or_one = prob_even + prob_one\n",
        "print(prob_even_or_one)\n",
        "\n",
        "# Task 4: Calculate the probability of drawing a heart or a club from a deck (13\n",
        "# hearts, 13 clubs, mutually exclusive). Print the result."
      ],
      "metadata": {
        "colab": {
          "base_uri": "https://localhost:8080/"
        },
        "id": "bbC5Oq4CROwe",
        "outputId": "25524fc3-d0e2-4ab2-c4d4-f21cac40da64"
      },
      "execution_count": null,
      "outputs": [
        {
          "output_type": "stream",
          "name": "stdout",
          "text": [
            "0.6666666666666666\n"
          ]
        }
      ]
    },
    {
      "cell_type": "code",
      "source": [
        "#Task 4: Calculate the probability of drawing a heart or a club from a deck (13\n",
        "# hearts, 13 clubs, mutually exclusive). Print the result\n",
        "\n",
        "prob_heart = 13 / 52\n",
        "prob_club = 13 / 52\n",
        "\n",
        "prob_heart_or_club = prob_heart + prob_club\n",
        "print(prob_heart_or_club)"
      ],
      "metadata": {
        "colab": {
          "base_uri": "https://localhost:8080/"
        },
        "id": "W5ltruzYLwqo",
        "outputId": "1f3f5735-8324-40d6-8106-998d23277fa1"
      },
      "execution_count": null,
      "outputs": [
        {
          "output_type": "stream",
          "name": "stdout",
          "text": [
            "0.5\n"
          ]
        }
      ]
    },
    {
      "cell_type": "code",
      "source": [
        "#Mutually exclusive events\n",
        "\n",
        "prob_even = 3 / 6\n",
        "prob_one = 1 / 6\n",
        "\n",
        "prob_even_or_one = prob_even + prob_one\n",
        "print(prob_even_or_one)"
      ],
      "metadata": {
        "colab": {
          "base_uri": "https://localhost:8080/"
        },
        "id": "Ep1leBWYEaxv",
        "outputId": "a8d41bf4-ba01-45b7-c580-71bbe77f2cb3"
      },
      "execution_count": null,
      "outputs": [
        {
          "output_type": "stream",
          "name": "stdout",
          "text": [
            "0.6666666666666666\n"
          ]
        }
      ]
    },
    {
      "cell_type": "markdown",
      "source": [
        "## Exercise 5: Multiplication Rule (Independent Events)"
      ],
      "metadata": {
        "id": "qDmANZCLSWBB"
      }
    },
    {
      "cell_type": "code",
      "source": [
        "# Note!!!! For independent events, the probability of both occurring is the product of their probabilities.\n",
        "\n",
        "prob_head = 0.5\n",
        "prob_two_heads = prob_head * prob_head\n",
        "print(prob_two_heads)\n",
        "\n",
        "# Task 5: Calculate the probability of rolling a 6 twice in a row with a six-sided\n",
        "# die. Print the result.\n",
        "# Question: What is the probability of getting head on a coin toss and 7 on a 6-sided die roll?"
      ],
      "metadata": {
        "id": "2iOkS_VFSG6S"
      },
      "execution_count": null,
      "outputs": []
    },
    {
      "cell_type": "code",
      "source": [
        "# Task 5: Calculate the probability of rolling a 6 twice in a row with a six-sided\n",
        "# die. Print the result.\n",
        "\n",
        "prob_six = 1 / 6\n",
        "prob_two_sixes = prob_six * prob_six\n",
        "print(prob_two_sixes)"
      ],
      "metadata": {
        "colab": {
          "base_uri": "https://localhost:8080/"
        },
        "id": "J4ecyRJFMPVm",
        "outputId": "17582c44-6b6f-4641-f4e0-f87e7235c330"
      },
      "execution_count": null,
      "outputs": [
        {
          "output_type": "stream",
          "name": "stdout",
          "text": [
            "0.027777777777777776\n"
          ]
        }
      ]
    },
    {
      "cell_type": "code",
      "source": [],
      "metadata": {
        "id": "IhMEe5EKMbAG"
      },
      "execution_count": null,
      "outputs": []
    },
    {
      "cell_type": "code",
      "source": [
        "#Note!!!! For independent events, the probability of both occuring is the product of their probabilities.\n",
        "\n",
        "prob_head = 0.5\n",
        "prob_two_heads = prob_head * prob_head\n",
        "print(prob_two_heads)"
      ],
      "metadata": {
        "colab": {
          "base_uri": "https://localhost:8080/"
        },
        "id": "tGNtoYmQE-fh",
        "outputId": "0b635429-0b03-4e94-9101-9e7210463446"
      },
      "execution_count": null,
      "outputs": [
        {
          "output_type": "stream",
          "name": "stdout",
          "text": [
            "0.25\n"
          ]
        }
      ]
    },
    {
      "cell_type": "markdown",
      "source": [
        "## Exercise 6: Dependent Events"
      ],
      "metadata": {
        "id": "MAAYEoW0VdjT"
      }
    },
    {
      "cell_type": "code",
      "source": [
        "#Lets calculate the probability of drawing two aces without replacement from a deck of 52 cards\n",
        "\n",
        "total_cards = 52\n",
        "ace_cards = 4\n",
        "\n",
        "prob_first_ace = ace_cards / total_cards\n",
        "prob_second_ace = (ace_cards - 1) / (total_cards - 1)\n",
        "\n",
        "prob_two_aces = prob_first_ace * prob_second_ace\n",
        "\n",
        "print(prob_two_aces)\n",
        "\n",
        "# Task 6: Calculate the probability of drawing two red cards without replace-\n",
        "# ment from a deck (26 red cards, 52 total). Print the result."
      ],
      "metadata": {
        "id": "9CRUOXsPVexY"
      },
      "execution_count": null,
      "outputs": []
    },
    {
      "cell_type": "code",
      "source": [
        "# Task 6: Calculate the probability of drawing two red cards without replace-\n",
        "# ment from a deck (26 red cards, 52 total). Print the result.\n",
        "\n",
        "total_cards = 52\n",
        "red_cards = 26\n",
        "\n",
        "prob_first_red = red_cards / total_cards\n",
        "prob_second_red = (red_cards - 1) / (total_cards - 1)\n",
        "\n",
        "prob_two_reds = prob_first_red * prob_second_red\n",
        "\n",
        "print(prob_two_reds)"
      ],
      "metadata": {
        "colab": {
          "base_uri": "https://localhost:8080/"
        },
        "id": "6p7mgyGbMqSH",
        "outputId": "375ac179-1f3a-4e2d-f24b-5ae860ffe2a5"
      },
      "execution_count": null,
      "outputs": [
        {
          "output_type": "stream",
          "name": "stdout",
          "text": [
            "0.24509803921568626\n"
          ]
        }
      ]
    },
    {
      "cell_type": "code",
      "source": [
        "#Lets calculate the probability of drawing two aces withput replacement from a deck of 52 cards\n",
        "\n",
        "total_cards = 52\n",
        "ace_cards = 4\n",
        "\n",
        "prob_first_ace = ace_cards / total_cards\n",
        "prob_second_ace = (ace_cards - 1) / (total_cards - 1)\n",
        "\n",
        "prob_two_aces = prob_first_ace * prob_second_ace\n",
        "\n",
        "print(prob_two_aces)"
      ],
      "metadata": {
        "colab": {
          "base_uri": "https://localhost:8080/"
        },
        "id": "s42X4w8SGXeW",
        "outputId": "21eda81f-d66b-4f8c-8d93-3359be2d5f60"
      },
      "execution_count": null,
      "outputs": [
        {
          "output_type": "stream",
          "name": "stdout",
          "text": [
            "0.004524886877828055\n"
          ]
        }
      ]
    }
  ]
}