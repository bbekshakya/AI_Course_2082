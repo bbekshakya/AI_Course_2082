{
  "nbformat": 4,
  "nbformat_minor": 0,
  "metadata": {
    "colab": {
      "provenance": []
    },
    "kernelspec": {
      "name": "python3",
      "display_name": "Python 3"
    },
    "language_info": {
      "name": "python"
    }
  },
  "cells": [
    {
      "cell_type": "markdown",
      "source": [
        "#NUMPY BASICS"
      ],
      "metadata": {
        "id": "rkRpPDpk4NTD"
      }
    },
    {
      "cell_type": "markdown",
      "source": [
        "#CREATING A NUMPY ARRAY AND ITS ATTRRIBUTES"
      ],
      "metadata": {
        "id": "ttdxE3684TYs"
      }
    },
    {
      "cell_type": "code",
      "source": [
        "#importing numpy library\n",
        "import numpy as np\n",
        "#creating a list\n",
        "my_list=[1,2,3,4,5]\n",
        "#changing the list into a numpy array\n",
        "my_array=np.array(my_list)\n",
        "#printing the array\n",
        "print(my_array)\n",
        "\n",
        "#creating a 0-D numpy array\n",
        "zero_array=np.array(42)\n",
        "#printing the array\n",
        "print(zero_array)\n",
        "\n",
        "#Instead of creating a list on a asepearet varaible we can directly pass a list to .array(function) like this:\n",
        "my_array=np.array([1,2,3,4,5])\n",
        "#printing the 1-D numpy array\n",
        "print(my_array)\n",
        "\n",
        "#lets create a 2-D array!\n",
        "two_d_array=np.array([[1,2,3],[4,5,6]])\n",
        "#printing the 2-D numpy array\n",
        "print(two_d_array)\n",
        "\n",
        "#lets create a 3-D array now!\n",
        "three_d_array=np.array([[[1,2,3],[4,5,6]],[[7,8,9],[10,11,12]]])\n",
        "#printing the 3-D numpy array\n",
        "print(three_d_array)"
      ],
      "metadata": {
        "colab": {
          "base_uri": "https://localhost:8080/"
        },
        "id": "zUtOOD7L4Xjq",
        "outputId": "3320ca11-20bc-4bc9-bcfe-e20a2ac60211"
      },
      "execution_count": null,
      "outputs": [
        {
          "output_type": "stream",
          "name": "stdout",
          "text": [
            "[1 2 3 4 5]\n",
            "42\n",
            "[1 2 3 4 5]\n"
          ]
        }
      ]
    },
    {
      "cell_type": "code",
      "execution_count": null,
      "metadata": {
        "colab": {
          "base_uri": "https://localhost:8080/"
        },
        "id": "yXwl6cd70oVB",
        "outputId": "0bbd8b16-f46f-4a48-cbdb-7c65bd7b7284"
      },
      "outputs": [
        {
          "output_type": "stream",
          "name": "stdout",
          "text": [
            "[[1 2 3]\n",
            " [4 5 6]]\n",
            "2\n",
            "(2, 3)\n",
            "int64\n",
            "6\n"
          ]
        }
      ],
      "source": [
        "#lets create abd erray and see its attributes!\n",
        "my_array = np.array([[1,2,3],[4,5,6]])\n",
        "print(my_array) #Printing the array\n",
        "print(my_array.ndim)  #Printing the dimesnsion of the array\n",
        "print(my_array.shape) #Printing the shape of the array\n",
        "print(my_array.dtype) #Printing the type of the array\n",
        "print(my_array.size) #Printing the size of the array\n"
      ]
    },
    {
      "cell_type": "code",
      "source": [],
      "metadata": {
        "id": "ygMdFLRc8yeD"
      },
      "execution_count": null,
      "outputs": []
    },
    {
      "cell_type": "markdown",
      "source": [
        "#ACCESSING AND MANIPULATING ARRAY ELEMENTS"
      ],
      "metadata": {
        "id": "BAyaW_ox9FsB"
      }
    },
    {
      "cell_type": "code",
      "source": [
        "#lets create a 1-D array and print one of its elements\n",
        "one_arr = np.array([1,2,3,4,5,6])\n",
        "print(one_arr[4])\n",
        "\n",
        "#lets print using negative indexing\n",
        "print(one_arr[-3])"
      ],
      "metadata": {
        "colab": {
          "base_uri": "https://localhost:8080/"
        },
        "id": "Kf-vsmdd9Kc3",
        "outputId": "ddb128b4-6a2b-4e81-cc4a-8dc372504660"
      },
      "execution_count": null,
      "outputs": [
        {
          "output_type": "stream",
          "name": "stdout",
          "text": [
            "5\n",
            "4\n"
          ]
        }
      ]
    },
    {
      "cell_type": "code",
      "source": [
        "#lets create a 2-D array\n",
        "two_arr = np.array([[1,2,3],[4,5,6]])\n",
        "print(two_arr[1,2])\n",
        "print(two_arr[0,-1])\n"
      ],
      "metadata": {
        "colab": {
          "base_uri": "https://localhost:8080/"
        },
        "id": "PHaScuPu9oD-",
        "outputId": "3b8e8484-07fb-44b5-fbec-5d0bd61e615b"
      },
      "execution_count": null,
      "outputs": [
        {
          "output_type": "stream",
          "name": "stdout",
          "text": [
            "6\n",
            "3\n"
          ]
        }
      ]
    },
    {
      "cell_type": "code",
      "source": [
        "#lets move to a 3-D array\n",
        "three_arr = np.array([[[1,2,3],[4,5,6]],[[7,8,9],[10,11,12]]])\n",
        "print(three_arr[1,1,2])\n",
        "print(three_arr[1,0,0])"
      ],
      "metadata": {
        "colab": {
          "base_uri": "https://localhost:8080/"
        },
        "id": "iIhAJQ-U-e1M",
        "outputId": "c0c4a817-cfc4-4c2e-f55c-459a458fb6ac"
      },
      "execution_count": null,
      "outputs": [
        {
          "output_type": "stream",
          "name": "stdout",
          "text": [
            "12\n",
            "7\n"
          ]
        }
      ]
    },
    {
      "cell_type": "markdown",
      "source": [
        "#SLICING ARRAYS"
      ],
      "metadata": {
        "id": "Ha8Xn-T_Azbi"
      }
    },
    {
      "cell_type": "markdown",
      "source": [
        "### Some Important Slicing Concepts\n",
        "array[start.end]\n",
        "\n",
        "array[start:end:steps]"
      ],
      "metadata": {
        "id": "zGFfT4soBea3"
      }
    },
    {
      "cell_type": "code",
      "source": [
        "#Slicing array from 0th index to 8th index\n",
        "my_array = np.array([1,2,3,4,5,6,7,8,9,10])\n",
        "print(my_array[0:8])\n"
      ],
      "metadata": {
        "colab": {
          "base_uri": "https://localhost:8080/"
        },
        "id": "VKspppU_-oVV",
        "outputId": "cb434659-ac8b-419a-9599-a5087d1e9b86"
      },
      "execution_count": null,
      "outputs": [
        {
          "output_type": "stream",
          "name": "stdout",
          "text": [
            "[1 2 3 4 5 6 7 8]\n"
          ]
        }
      ]
    },
    {
      "cell_type": "code",
      "source": [
        "#Slicing with steps\n",
        "my_new_array = np.array([1,2,3,4,5,6,7,8,9,10])\n",
        "print(my_new_array[0:9:2])"
      ],
      "metadata": {
        "colab": {
          "base_uri": "https://localhost:8080/"
        },
        "id": "V91AwrYYCX3t",
        "outputId": "2b426000-51fc-4a51-a24e-71299072813d"
      },
      "execution_count": null,
      "outputs": [
        {
          "output_type": "stream",
          "name": "stdout",
          "text": [
            "[1 3 5 7 9]\n"
          ]
        }
      ]
    },
    {
      "cell_type": "code",
      "source": [
        "#Slicing on a 2-D array\n",
        "my_two_d = np.array([[1,2,3,4,5,6,7,8,9],[10,11,12,13,14,15,16,17,18]])\n",
        "print(my_two_d[1,0:6])\n",
        "print(my_two_d[0,3:6])"
      ],
      "metadata": {
        "colab": {
          "base_uri": "https://localhost:8080/"
        },
        "id": "RU83l9yoCn9_",
        "outputId": "2c642263-e3cb-44b1-dfb7-3a48fdc77e6b"
      },
      "execution_count": null,
      "outputs": [
        {
          "output_type": "stream",
          "name": "stdout",
          "text": [
            "[10 11 12 13 14 15]\n",
            "[4 5 6]\n"
          ]
        }
      ]
    },
    {
      "cell_type": "markdown",
      "source": [
        "#Homework: Experiment with slicing on a 3-D Array\n",
        "#"
      ],
      "metadata": {
        "id": "OBWFUR6gFOIi"
      }
    },
    {
      "cell_type": "code",
      "source": [
        "np.ones((3,3))"
      ],
      "metadata": {
        "colab": {
          "base_uri": "https://localhost:8080/"
        },
        "id": "mKJ16zGQEVLH",
        "outputId": "7e2740f9-42a1-4522-c805-50cad47f730d"
      },
      "execution_count": null,
      "outputs": [
        {
          "output_type": "execute_result",
          "data": {
            "text/plain": [
              "array([[1., 1., 1.],\n",
              "       [1., 1., 1.],\n",
              "       [1., 1., 1.]])"
            ]
          },
          "metadata": {},
          "execution_count": 19
        }
      ]
    },
    {
      "cell_type": "markdown",
      "source": [
        "#CLASSWORK"
      ],
      "metadata": {
        "id": "9WyUC9DaGEp9"
      }
    },
    {
      "cell_type": "markdown",
      "source": [
        "1. Create a NumPy array from the list [7, 14, 21, 28]. Print the array.\n"
      ],
      "metadata": {
        "id": "akai-5T6GHKO"
      }
    },
    {
      "cell_type": "code",
      "source": [
        "import numpy as np\n",
        "my_list=[7,14,21,28]\n",
        "print(my_list)"
      ],
      "metadata": {
        "colab": {
          "base_uri": "https://localhost:8080/"
        },
        "id": "rnKO-fboGnuA",
        "outputId": "131ddc5f-2f34-4579-dc9b-6f1bf1c2c881"
      },
      "execution_count": null,
      "outputs": [
        {
          "output_type": "stream",
          "name": "stdout",
          "text": [
            "[7, 14, 21, 28]\n"
          ]
        }
      ]
    },
    {
      "cell_type": "markdown",
      "source": [],
      "metadata": {
        "id": "8noz4_slG1lE"
      }
    },
    {
      "cell_type": "code",
      "source": [
        "two_d_array=np.array([[5,10,15],[20,25,30]])\n",
        "print(my_array.shape)\n",
        "print(my_array.ndim)"
      ],
      "metadata": {
        "colab": {
          "base_uri": "https://localhost:8080/"
        },
        "id": "f31Dv5XvG0De",
        "outputId": "d7027a94-cd59-4a1b-dec8-525359897e2a"
      },
      "execution_count": null,
      "outputs": [
        {
          "output_type": "stream",
          "name": "stdout",
          "text": [
            "(10,)\n",
            "1\n"
          ]
        }
      ]
    },
    {
      "cell_type": "markdown",
      "source": [
        "3. Use np. zeros to create a 2D array of shape (2, 3). Then, use np. arange to create an array from 0 to 12 with a step of 3. Print both arrays\n"
      ],
      "metadata": {
        "id": "2fJKDBM9Hmva"
      }
    },
    {
      "cell_type": "code",
      "source": [
        "import numpy as np\n",
        "np.zeros((2,3))\n",
        "arr = np.arange(0,13,3)\n",
        "print(arr)"
      ],
      "metadata": {
        "colab": {
          "base_uri": "https://localhost:8080/"
        },
        "id": "h9mO-eplHZp9",
        "outputId": "39c84463-1027-4d7a-a361-28b060c06e07"
      },
      "execution_count": null,
      "outputs": [
        {
          "output_type": "stream",
          "name": "stdout",
          "text": [
            "[ 0  3  6  9 12]\n"
          ]
        }
      ]
    },
    {
      "cell_type": "markdown",
      "source": [
        "4. Create a NumPy array (2, 4, 6, 8]. Multiply all elements by 3 and print the result.\n"
      ],
      "metadata": {
        "id": "GXWhc8E9LIWH"
      }
    },
    {
      "cell_type": "code",
      "source": [
        "import numpy as np\n",
        "arr = np.array([2,4,6,8])\n",
        "result = arr * 3\n",
        "print(result)\n"
      ],
      "metadata": {
        "colab": {
          "base_uri": "https://localhost:8080/"
        },
        "id": "ZQsdPU2jIENi",
        "outputId": "d289909e-42c1-4d33-d8bc-1edbf3ff0f00"
      },
      "execution_count": null,
      "outputs": [
        {
          "output_type": "stream",
          "name": "stdout",
          "text": [
            "[ 6 12 18 24]\n"
          ]
        }
      ]
    },
    {
      "cell_type": "markdown",
      "source": [
        "5. Create a NumPy array [1, 3, 5, 7, 9, 11]. Print the third element and a slice from index 1 to 3 (inclusive)."
      ],
      "metadata": {
        "id": "zUo1VZ0VMglm"
      }
    },
    {
      "cell_type": "code",
      "source": [
        "import numpy as np\n",
        "arr = np.array([1,3,5,7,9,11])\n",
        "print(\"Third Element is:\", arr[2])\n",
        "print(arr[1:4])\n"
      ],
      "metadata": {
        "colab": {
          "base_uri": "https://localhost:8080/"
        },
        "id": "90hcOAjfL0KH",
        "outputId": "06eb2ef0-11e5-4b77-c780-87086d28b5aa"
      },
      "execution_count": null,
      "outputs": [
        {
          "output_type": "stream",
          "name": "stdout",
          "text": [
            "Third Element is: 5\n",
            "[3 5 7]\n"
          ]
        }
      ]
    },
    {
      "cell_type": "markdown",
      "source": [
        " Task 1: Create a 1D NumPy array with even numbers from 2 to 10 (inclusive), add 5 to each element"
      ],
      "metadata": {
        "id": "YesqVmqddNSA"
      }
    },
    {
      "cell_type": "code",
      "source": [
        "import numpy as np\n",
        "arr = np.arange(2,11,2)\n",
        "print(arr)\n",
        "result = arr + 5\n",
        "print(result)"
      ],
      "metadata": {
        "colab": {
          "base_uri": "https://localhost:8080/"
        },
        "id": "yekot677NeG7",
        "outputId": "abc0c8f1-a434-4505-be44-aa2917f2e2cf"
      },
      "execution_count": null,
      "outputs": [
        {
          "output_type": "stream",
          "name": "stdout",
          "text": [
            "[ 2  4  6  8 10]\n",
            "[ 7  9 11 13 15]\n"
          ]
        }
      ]
    },
    {
      "cell_type": "markdown",
      "source": [
        "# Task 2: Create a 2D array with shape (2, 3) with values [[1,3,5], [2,4,6]].Extract first row and compute its sum using np.sum. Print both the first row and the sum."
      ],
      "metadata": {
        "id": "ZC6ndlLVdo3I"
      }
    },
    {
      "cell_type": "code",
      "source": [
        "array2 = np.array([[1, 3, 5], [2, 4, 6]])\n",
        "print(array2[0])\n",
        "print(np.sum(array2[0]))"
      ],
      "metadata": {
        "colab": {
          "base_uri": "https://localhost:8080/"
        },
        "id": "0J54BCM9ewbS",
        "outputId": "3f6185c7-1b52-4d1f-aea2-446fdfc98696"
      },
      "execution_count": null,
      "outputs": [
        {
          "output_type": "stream",
          "name": "stdout",
          "text": [
            "[1 3 5]\n",
            "9\n"
          ]
        }
      ]
    },
    {
      "cell_type": "markdown",
      "source": [
        "1. Create a 2D NumPy array of shape (3, 3) with random integers between 1 and 10 (inclusive) using np. random. randint. Then, replace all values greater than 5 with 0 and print the modified array.\n"
      ],
      "metadata": {
        "id": "xqQ3wl7uB2vC"
      }
    },
    {
      "cell_type": "code",
      "source": [
        "import numpy as np\n",
        "arr = np.random.randint(1, 11, size=(3, 3))\n",
        "arr[arr > 5] = 0 # Replace values greater than 5 with 0\n",
        "print(arr)"
      ],
      "metadata": {
        "id": "08Ou_UxbdcvM",
        "colab": {
          "base_uri": "https://localhost:8080/"
        },
        "outputId": "8bb403e6-2231-448c-eaeb-3fdf8dd3c638"
      },
      "execution_count": 6,
      "outputs": [
        {
          "output_type": "stream",
          "name": "stdout",
          "text": [
            "[[2 4 3]\n",
            " [0 0 0]\n",
            " [1 0 0]]\n"
          ]
        }
      ]
    },
    {
      "cell_type": "markdown",
      "source": [
        "Create two 1D NumPy arrays: [2, 4, 6, 8] and [1, 3, 5, 7]. Compute the element-wise sum and the dot product of the two arrays. Print both results.\n"
      ],
      "metadata": {
        "id": "XFHZekEqCjvs"
      }
    },
    {
      "cell_type": "code",
      "source": [
        "import numpy as np\n",
        "arr1 = np.array([2, 4, 6, 8])\n",
        "arr2 = np.array([1, 3, 5, 7])\n",
        "sum_arr = arr1 + arr2\n",
        "dot_arr = np.dot(arr1, arr2)\n",
        "print(sum_arr)\n",
        "print(dot_arr)"
      ],
      "metadata": {
        "colab": {
          "base_uri": "https://localhost:8080/"
        },
        "id": "8kmmgakGCkmd",
        "outputId": "cdab9a33-4bbd-4526-fb24-5313a230eeb8"
      },
      "execution_count": 7,
      "outputs": [
        {
          "output_type": "stream",
          "name": "stdout",
          "text": [
            "[ 3  7 11 15]\n",
            "100\n"
          ]
        }
      ]
    },
    {
      "cell_type": "markdown",
      "source": [
        "Create a 2D NumPy array of shape (4, 3) filled with ones using np.ones. Then, add a 1D array [10, 20, 30] to each row of the 2D array using broadcasting. Print the resulting array.\n"
      ],
      "metadata": {
        "id": "ESmZeFDrC4dm"
      }
    },
    {
      "cell_type": "code",
      "source": [
        "import numpy as np\n",
        "two_d_array = np.ones((4, 3))\n",
        "one_d_array = np.array([10, 20, 30])\n",
        "result = two_d_array + one_d_array\n",
        "print(result)"
      ],
      "metadata": {
        "colab": {
          "base_uri": "https://localhost:8080/"
        },
        "id": "iJh7JSM-C6oj",
        "outputId": "5217d395-0142-4fac-f9e9-b29f657c3396"
      },
      "execution_count": 8,
      "outputs": [
        {
          "output_type": "stream",
          "name": "stdout",
          "text": [
            "[[11. 21. 31.]\n",
            " [11. 21. 31.]\n",
            " [11. 21. 31.]\n",
            " [11. 21. 31.]]\n"
          ]
        }
      ]
    },
    {
      "cell_type": "markdown",
      "source": [
        "Create a 2D NumPy array [[1, 2, 3], [4, 5, 6], [7, 8, 9]] . Extract the second column and compute its mean using p.mean. Then, reshape the original array into a 1D array and print both results.\n"
      ],
      "metadata": {
        "id": "6COfneYSDZjT"
      }
    },
    {
      "cell_type": "code",
      "source": [
        "import numpy as np\n",
        "two_d_array = np.array([[1, 2, 3], [4, 5, 6], [7, 8, 9]])\n",
        "second_column = two_d_array[:, 1]\n",
        "print(second_column)\n",
        "mean_second_column = np.mean(second_column)\n",
        "print(mean_second_column)\n",
        "one_d_array = two_d_array.flatten()\n",
        "print(one_d_array)\n"
      ],
      "metadata": {
        "colab": {
          "base_uri": "https://localhost:8080/"
        },
        "id": "KBSB7ZjYDaox",
        "outputId": "aa13e280-27a7-4adb-9315-9c8625c89d90"
      },
      "execution_count": 10,
      "outputs": [
        {
          "output_type": "stream",
          "name": "stdout",
          "text": [
            "[2 5 8]\n",
            "5.0\n",
            "[1 2 3 4 5 6 7 8 9]\n"
          ]
        }
      ]
    },
    {
      "cell_type": "markdown",
      "source": [
        "Create a 1D NumPy array [10, 20, 30, 40, 50, 60] . Use a boolean mask to select elements greater than 30, then square those elements. Print the original array and the modified array."
      ],
      "metadata": {
        "id": "TPXQ5XZNEGY0"
      }
    },
    {
      "cell_type": "code",
      "source": [
        "import numpy as np\n",
        "arr = np.array([10, 20, 30, 40, 50, 60])\n",
        "boolean_mask = arr > 30\n",
        "modified_arr = arr[boolean_mask]**2\n",
        "print(arr)\n",
        "print(modified_arr)"
      ],
      "metadata": {
        "colab": {
          "base_uri": "https://localhost:8080/"
        },
        "id": "vA3OXUpfEHB9",
        "outputId": "8a711b70-a42e-423b-e319-393c1b386d9b"
      },
      "execution_count": 11,
      "outputs": [
        {
          "output_type": "stream",
          "name": "stdout",
          "text": [
            "[10 20 30 40 50 60]\n",
            "[1600 2500 3600]\n"
          ]
        }
      ]
    }
  ]
}