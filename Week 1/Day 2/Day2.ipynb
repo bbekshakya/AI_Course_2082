{
  "nbformat": 4,
  "nbformat_minor": 0,
  "metadata": {
    "colab": {
      "provenance": []
    },
    "kernelspec": {
      "name": "python3",
      "display_name": "Python 3"
    },
    "language_info": {
      "name": "python"
    }
  },
  "cells": [
    {
      "cell_type": "markdown",
      "source": [
        "# **Day 1 Coding**"
      ],
      "metadata": {
        "id": "gsM0wB6Vr5bQ"
      }
    },
    {
      "cell_type": "code",
      "execution_count": null,
      "metadata": {
        "colab": {
          "base_uri": "https://localhost:8080/"
        },
        "id": "StzRindGrGYp",
        "outputId": "d2dbff60-6d27-470e-ed7b-2851e196815e"
      },
      "outputs": [
        {
          "output_type": "stream",
          "name": "stdout",
          "text": [
            "This is my first day coding python\n"
          ]
        }
      ],
      "source": [
        "print(\"This is my first day coding python\")"
      ]
    },
    {
      "cell_type": "markdown",
      "source": [
        "LOOPS IN PYTHON"
      ],
      "metadata": {
        "id": "0btV1I_cuAl7"
      }
    },
    {
      "cell_type": "code",
      "source": [
        "#Top 10 natural number\n",
        "for i in range(1,11):\n",
        " print(i)"
      ],
      "metadata": {
        "colab": {
          "base_uri": "https://localhost:8080/"
        },
        "id": "TlTgg23puErO",
        "outputId": "b6b3caea-9729-4128-a94c-19ab100441fc"
      },
      "execution_count": null,
      "outputs": [
        {
          "output_type": "stream",
          "name": "stdout",
          "text": [
            "1\n",
            "2\n",
            "3\n",
            "4\n",
            "5\n",
            "6\n",
            "7\n",
            "8\n",
            "9\n",
            "10\n"
          ]
        }
      ]
    },
    {
      "cell_type": "code",
      "source": [
        "#Top 10 natural number ko square\n",
        "for i in range(1,11):\n",
        " print(i*i)"
      ],
      "metadata": {
        "colab": {
          "base_uri": "https://localhost:8080/"
        },
        "id": "jskbrbWJuLdN",
        "outputId": "0a4fb339-40eb-4f11-e638-d2a3bb63194a"
      },
      "execution_count": null,
      "outputs": [
        {
          "output_type": "stream",
          "name": "stdout",
          "text": [
            "1\n",
            "4\n",
            "9\n",
            "16\n",
            "25\n",
            "36\n",
            "49\n",
            "64\n",
            "81\n",
            "100\n"
          ]
        }
      ]
    },
    {
      "cell_type": "code",
      "source": [],
      "metadata": {
        "id": "cBDxV2L5uciH"
      },
      "execution_count": null,
      "outputs": []
    },
    {
      "cell_type": "markdown",
      "source": [
        "FUNCTIONS IN PYTHON"
      ],
      "metadata": {
        "id": "S7_ZZWDauwZ1"
      }
    },
    {
      "cell_type": "code",
      "source": [
        "# Declaring function to calculate square of a number\n",
        "def calculate_square(length):\n",
        "  return length * length\n",
        "\n",
        "# calling a function to print square of first square\n",
        "print( \"The area of first square is:\",calculate_square(6))"
      ],
      "metadata": {
        "colab": {
          "base_uri": "https://localhost:8080/"
        },
        "id": "HeaZ70vcu1SE",
        "outputId": "86cc6077-c3bd-4cda-bb3e-e7f5137a43ad"
      },
      "execution_count": null,
      "outputs": [
        {
          "output_type": "stream",
          "name": "stdout",
          "text": [
            "The area of first square is: 36\n"
          ]
        }
      ]
    },
    {
      "cell_type": "code",
      "source": [
        "def calculate_square(length):\n",
        "  return length * length\n",
        "\n",
        "# calling a function to print square of second square\n",
        "print( \"The area of second square is:\",calculate_square(10))\n",
        "print( \"The area of third square is:\",calculate_square(16))"
      ],
      "metadata": {
        "colab": {
          "base_uri": "https://localhost:8080/"
        },
        "id": "6BaY20khvl7F",
        "outputId": "480415f3-b7a8-406c-8a63-95072d4a0afe"
      },
      "execution_count": null,
      "outputs": [
        {
          "output_type": "stream",
          "name": "stdout",
          "text": [
            "The area of second square is: 100\n",
            "The area of third square is: 256\n"
          ]
        }
      ]
    },
    {
      "cell_type": "code",
      "source": [
        "Find Area of circle"
      ],
      "metadata": {
        "id": "-4sKWF2Fvysn"
      },
      "execution_count": null,
      "outputs": []
    },
    {
      "cell_type": "markdown",
      "source": [
        "LISTS IN PYTHON"
      ],
      "metadata": {
        "id": "PSFEv-DLwvC1"
      }
    },
    {
      "cell_type": "code",
      "source": [
        "fruits = [\"apples\", \"banana\", \"mango\", \"litchi\", \"kiwi\"]\n",
        "print(fruits)\n",
        "\n",
        "# # Accessing elements from the list\n",
        "# print(fruits(0)) #first index\n",
        "# print(fruits(-1))\n",
        "# print(fruits(4))\n",
        "\n",
        "# Adding and removing elements from the list\n",
        "# fruits.append(\"pineapple\")\n",
        "# print(fruits)\n",
        "\n",
        "# fruits.remove(\"mango\")\n",
        "# print(fruits)"
      ],
      "metadata": {
        "colab": {
          "base_uri": "https://localhost:8080/"
        },
        "id": "gGRtcR_ow7LQ",
        "outputId": "14749558-39e5-4a9e-d0fc-733f56b62706"
      },
      "execution_count": null,
      "outputs": [
        {
          "output_type": "stream",
          "name": "stdout",
          "text": [
            "['apples', 'banana', 'mango', 'litchi', 'kiwi']\n",
            "['apples', 'banana', 'litchi', 'kiwi']\n"
          ]
        }
      ]
    },
    {
      "cell_type": "code",
      "source": [],
      "metadata": {
        "id": "Xs0Bfk9Gxqul"
      },
      "execution_count": null,
      "outputs": []
    },
    {
      "cell_type": "markdown",
      "source": [
        "SETS AND TUPLES (HOME RESEARCH)"
      ],
      "metadata": {
        "id": "d5SlFG4hypvE"
      }
    },
    {
      "cell_type": "markdown",
      "source": [
        "DICTIONARY IN PYTHON"
      ],
      "metadata": {
        "id": "sFKAS6qgyvGV"
      }
    },
    {
      "cell_type": "code",
      "source": [
        "student = {\n",
        "    \"name\" : \"Bbek\",\n",
        "    \"class\" : 7,\n",
        "    \"gender\" : \"Male\"\n",
        "}\n",
        "#Accessing values from keys in a dictionary\n",
        "print(student[\"name\"])\n",
        "print(student[\"class\"])\n",
        "\n",
        "#Updating value of a particular key in a dictionary\n",
        "student[\"gender\"] = \"female\"\n",
        "print(student)\n",
        "student[\"name\"] = \"Sita\"\n",
        "print(student)\n",
        "\n",
        "#Adding a new key value pair into the existing dictionary\n",
        "student[\"roll_no\"] = 10\n",
        "print(student)\n",
        "\n",
        "#Deleting a key value pair from the existing dictionary\n",
        "del student[\"class\"]\n",
        "print(student)"
      ],
      "metadata": {
        "colab": {
          "base_uri": "https://localhost:8080/"
        },
        "id": "ByjSaomiyzOI",
        "outputId": "29bec024-ce4e-4eb4-a2dc-6c5ba05b608b"
      },
      "execution_count": null,
      "outputs": [
        {
          "output_type": "stream",
          "name": "stdout",
          "text": [
            "Bbek\n",
            "7\n",
            "{'name': 'Bbek', 'class': 7, 'gender': 'female'}\n",
            "{'name': 'Sita', 'class': 7, 'gender': 'female'}\n",
            "{'name': 'Sita', 'class': 7, 'gender': 'female', 'roll_no': 10}\n",
            "{'name': 'Sita', 'gender': 'female', 'roll_no': 10}\n"
          ]
        }
      ]
    },
    {
      "cell_type": "code",
      "source": [],
      "metadata": {
        "id": "A03rRUGszZ-y"
      },
      "execution_count": null,
      "outputs": []
    },
    {
      "cell_type": "markdown",
      "source": [
        "#HomeWork"
      ],
      "metadata": {
        "id": "HgTym5EzE3qk"
      }
    },
    {
      "cell_type": "markdown",
      "source": [
        "Simple Interest Calculator\n",
        "Goal: Build a program that calculates the simple interest earned on a deposit.\n",
        "Hints:\n",
        "• Ask the user to input principal amount, rate of interest, and time in years.\n",
        "• Use the formula: SI = P×R×T\n",
        "100 .\n",
        "• Display the simple interest with appropriate formatting."
      ],
      "metadata": {
        "id": "z9ciKik1E9FB"
      }
    },
    {
      "cell_type": "code",
      "source": [
        "principal = 15000\n",
        "rate = 3.5\n",
        "time = 1\n",
        "simple_interest = (principal * rate * time) / 100\n",
        "print(f\"The simple interest earned is: Rs.{simple_interest}\")"
      ],
      "metadata": {
        "colab": {
          "base_uri": "https://localhost:8080/"
        },
        "id": "j09z6FucFCWa",
        "outputId": "570a7fe4-9217-43c1-95cb-79380a95c4b0"
      },
      "execution_count": null,
      "outputs": [
        {
          "output_type": "stream",
          "name": "stdout",
          "text": [
            "The simple interest earned is: Rs.525.0\n"
          ]
        }
      ]
    },
    {
      "cell_type": "code",
      "source": [],
      "metadata": {
        "id": "LIg3mEbkF0kn"
      },
      "execution_count": null,
      "outputs": []
    },
    {
      "cell_type": "markdown",
      "source": [
        "Age Calculator\n",
        "Goal: Create a program that calculates a person’s age based on their birth year. (in python language)\n",
        "Hints:\n",
        "• Ask the user to input their birth year.\n",
        "• Use the current year (you can hardcode it or use the datetime module).\n",
        "• Subtract the birth year from the current year and display the result."
      ],
      "metadata": {
        "id": "SLw-gGo5GVqm"
      }
    },
    {
      "cell_type": "code",
      "source": [
        "birth_year = int(input(\"Enter your birth year: \"))\n",
        "current_year = int(2025)\n",
        "age = current_year - birth_year\n",
        "print(f\"You are {age} years old.\")"
      ],
      "metadata": {
        "colab": {
          "base_uri": "https://localhost:8080/"
        },
        "id": "MdDO_z-SGXZp",
        "outputId": "7678d26b-a680-4d69-8166-05111031d33b"
      },
      "execution_count": null,
      "outputs": [
        {
          "output_type": "stream",
          "name": "stdout",
          "text": [
            "Enter your birth year: 1991\n",
            "You are 34 years old.\n"
          ]
        }
      ]
    },
    {
      "cell_type": "code",
      "source": [],
      "metadata": {
        "id": "8iyF-KSMGuCF"
      },
      "execution_count": null,
      "outputs": []
    },
    {
      "cell_type": "markdown",
      "source": [
        "Currency Converter\n",
        "Goal: Write a program that converts an amount from one currency to another.\n",
        "Hints:\n",
        "• Ask the user to input the amount in their local currency.\n",
        "• Use a fixed exchange rate (e.g., 1 USD = 132 NPR).\n",
        "• Convert and display the amount in the target currency."
      ],
      "metadata": {
        "id": "UvSK6LvFHMRs"
      }
    },
    {
      "cell_type": "code",
      "source": [
        "exchange_rate = 132\n",
        "npr = 15000\n",
        "usd = npr / exchange_rate\n",
        "print(f\"{npr} NPR is equivalent to ${usd:} USD\")"
      ],
      "metadata": {
        "colab": {
          "base_uri": "https://localhost:8080/"
        },
        "id": "z6vgbaoUHNTR",
        "outputId": "c9ac57c8-69b4-44bc-e8c2-b149df71497f"
      },
      "execution_count": null,
      "outputs": [
        {
          "output_type": "stream",
          "name": "stdout",
          "text": [
            "15000 NPR is equivalent to $113.63636363636364 USD\n"
          ]
        }
      ]
    },
    {
      "cell_type": "code",
      "source": [],
      "metadata": {
        "id": "pEHz-e-ZH8A-"
      },
      "execution_count": null,
      "outputs": []
    },
    {
      "cell_type": "markdown",
      "source": [
        "BMI Calculator\n",
        "Goal: Create a program to calculate Body Mass Index (BMI).\n",
        "Hints:\n",
        "• Ask the user to input their weight (in kg) and height (in meters).\n",
        "• Use the formula: BMI = weight/height*2 .\n",
        "• Print the BMI value with a message indicating the weight category (e.g., underweight, normal,\n",
        "overweight)."
      ],
      "metadata": {
        "id": "m9isbxCSIAfZ"
      }
    },
    {
      "cell_type": "markdown",
      "source": [
        "##calculate BMI"
      ],
      "metadata": {
        "id": "BiZJdUkF01_Q"
      }
    },
    {
      "cell_type": "code",
      "source": [
        "def calculate_bmi(weight, height):\n",
        "  bmi = weight / (height ** 2)\n",
        "  return bmi\n",
        "\n",
        "def interpret_bmi(bmi)\n",
        "if bmi < 18.5:\n",
        "    category = \"Underweight\"\n",
        "elif 18.5 <= bmi < 24.9:\n",
        "    category = \"Normal weight\"\n",
        "elif 25 <= bmi < 29.9:\n",
        "    category = \"Overweight\"\n",
        "else:\n",
        "  return \"obese\"\n",
        "\n",
        "\n",
        "weight = float(input(\"Enter your weight (in kg): \"))\n",
        "height = float(input(\"Enter your height (in meters): \")\n",
        "\n",
        "calculate_bmi(weight, height):\n",
        "category = interpret_bmi(bmi)\n",
        "\n",
        "print(f\"Your BMI is: {bmi:.2f}\")\n",
        "print(f\"You are categorized as: {category}\")"
      ],
      "metadata": {
        "colab": {
          "base_uri": "https://localhost:8080/",
          "height": 110
        },
        "id": "8wSgIHmlID9M",
        "outputId": "be5e0120-7402-463d-af2c-fbf0c723e3af"
      },
      "execution_count": null,
      "outputs": [
        {
          "output_type": "error",
          "ename": "SyntaxError",
          "evalue": "expected ':' (<ipython-input-4-ccd9b9ca7376>, line 5)",
          "traceback": [
            "\u001b[0;36m  File \u001b[0;32m\"<ipython-input-4-ccd9b9ca7376>\"\u001b[0;36m, line \u001b[0;32m5\u001b[0m\n\u001b[0;31m    def interpret_bmi(bmi)\u001b[0m\n\u001b[0m                          ^\u001b[0m\n\u001b[0;31mSyntaxError\u001b[0m\u001b[0;31m:\u001b[0m expected ':'\n"
          ]
        }
      ]
    },
    {
      "cell_type": "code",
      "source": [],
      "metadata": {
        "id": "mczWjdQLIsb-"
      },
      "execution_count": null,
      "outputs": []
    }
  ]
}