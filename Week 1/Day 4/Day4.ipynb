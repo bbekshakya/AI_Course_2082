{
  "nbformat": 4,
  "nbformat_minor": 0,
  "metadata": {
    "colab": {
      "provenance": []
    },
    "kernelspec": {
      "name": "python3",
      "display_name": "Python 3"
    },
    "language_info": {
      "name": "python"
    }
  },
  "cells": [
    {
      "cell_type": "markdown",
      "source": [
        "#File Handling And Exception"
      ],
      "metadata": {
        "id": "60aZX9lc4Kh8"
      }
    },
    {
      "cell_type": "markdown",
      "source": [
        "Opening ANd Reading a File"
      ],
      "metadata": {
        "id": "hO4xbpXj4KU6"
      }
    },
    {
      "cell_type": "code",
      "execution_count": 5,
      "metadata": {
        "colab": {
          "base_uri": "https://localhost:8080/"
        },
        "id": "u2S_Wu4ht9uq",
        "outputId": "a67263af-7ae7-4928-c5bc-786e79ac76af"
      },
      "outputs": [
        {
          "output_type": "stream",
          "name": "stdout",
          "text": [
            "Hello, This is a 4th day of AI class.\n",
            "coding program\n",
            "going on and on  \n"
          ]
        }
      ],
      "source": [
        "f= open(\"file.txt\",\"r\")\n",
        "print(f.read())\n",
        "f.close()"
      ]
    },
    {
      "cell_type": "code",
      "source": [
        "f= open(\"file.txt\",\"r\")\n",
        "print(f.readline())\n",
        "f.close()"
      ],
      "metadata": {
        "colab": {
          "base_uri": "https://localhost:8080/"
        },
        "id": "hLqsD2T45gwP",
        "outputId": "b85ecac0-fad3-4c07-8d52-d84b14e5afc6"
      },
      "execution_count": 6,
      "outputs": [
        {
          "output_type": "stream",
          "name": "stdout",
          "text": [
            "Hello, This is a 4th day of AI class.\n",
            "\n"
          ]
        }
      ]
    },
    {
      "cell_type": "code",
      "source": [
        "f= open(\"file.txt\",\"r\")\n",
        "print(f.readlines())\n",
        "f.close()"
      ],
      "metadata": {
        "colab": {
          "base_uri": "https://localhost:8080/"
        },
        "id": "wQ0qZwu35lP0",
        "outputId": "dde60830-a0ec-40ab-bd5a-8a89d6a3aeef"
      },
      "execution_count": 7,
      "outputs": [
        {
          "output_type": "stream",
          "name": "stdout",
          "text": [
            "['Hello, This is a 4th day of AI class.\\n', 'coding program\\n', 'going on and on  ']\n"
          ]
        }
      ]
    },
    {
      "cell_type": "code",
      "source": [
        "f= open(\"file.txt\",\"r\")\n",
        "print(f.read(10))"
      ],
      "metadata": {
        "colab": {
          "base_uri": "https://localhost:8080/"
        },
        "id": "_T6vU1yA5nAK",
        "outputId": "f02a048a-9853-4c46-eaf2-d744dad3be0f"
      },
      "execution_count": 4,
      "outputs": [
        {
          "output_type": "stream",
          "name": "stdout",
          "text": [
            "Hello, Thi\n"
          ]
        }
      ]
    },
    {
      "cell_type": "code",
      "source": [
        "with open(\"file.txt\",\"r\") as f:\n",
        "  print(f.read())"
      ],
      "metadata": {
        "colab": {
          "base_uri": "https://localhost:8080/"
        },
        "id": "dBsCWKty6BXL",
        "outputId": "3a3b02f6-c4a1-421c-cf82-17c122d8fddf"
      },
      "execution_count": 8,
      "outputs": [
        {
          "output_type": "stream",
          "name": "stdout",
          "text": [
            "Hello, This is a 4th day of AI class.\n",
            "coding program\n",
            "going on and on  \n"
          ]
        }
      ]
    },
    {
      "cell_type": "code",
      "source": [],
      "metadata": {
        "id": "hix49JtA6ptl"
      },
      "execution_count": null,
      "outputs": []
    },
    {
      "cell_type": "markdown",
      "source": [
        "#WRITE MODE"
      ],
      "metadata": {
        "id": "9lz9RQpV62sD"
      }
    },
    {
      "cell_type": "code",
      "source": [
        "f = open(\"file.txt\",\"w\")\n",
        "f.write(\"i am just written\")\n",
        "f.close()"
      ],
      "metadata": {
        "id": "Nn7pQ9NO657x"
      },
      "execution_count": 13,
      "outputs": []
    },
    {
      "cell_type": "code",
      "source": [
        "with open(\"file.txt\",\"w\") as f:\n",
        "  f.write(\"i am just written\")"
      ],
      "metadata": {
        "id": "2BGqA_O07NPW"
      },
      "execution_count": 15,
      "outputs": []
    },
    {
      "cell_type": "markdown",
      "source": [
        "#APPEND MODE"
      ],
      "metadata": {
        "id": "dtetopo67u72"
      }
    },
    {
      "cell_type": "code",
      "source": [
        "f = open(\"file.txt\",\"a\")\n",
        "f.write(\"\\ni am just appended!\")\n",
        "f.close()"
      ],
      "metadata": {
        "id": "HdRbOhHe7x9L"
      },
      "execution_count": 16,
      "outputs": []
    },
    {
      "cell_type": "markdown",
      "source": [
        "#DELETING A FILE/FOLDER"
      ],
      "metadata": {
        "id": "eL5QA1Ar8Jd6"
      }
    },
    {
      "cell_type": "code",
      "source": [
        "import os\n",
        "os.remove(\"file.txt\")"
      ],
      "metadata": {
        "id": "2QI7JqxS8Nic"
      },
      "execution_count": 17,
      "outputs": []
    },
    {
      "cell_type": "code",
      "source": [
        "os.rmdir(\"/content/delete\")"
      ],
      "metadata": {
        "id": "Ev1KvlbJ8cuE"
      },
      "execution_count": 18,
      "outputs": []
    },
    {
      "cell_type": "markdown",
      "source": [
        "#BASIC EXCEPTION HANDLING"
      ],
      "metadata": {
        "id": "RyU9r0pY8-hk"
      }
    },
    {
      "cell_type": "code",
      "source": [
        "a = 6\n",
        "print(a)"
      ],
      "metadata": {
        "colab": {
          "base_uri": "https://localhost:8080/"
        },
        "id": "j0CFGplHEgmc",
        "outputId": "84c0206f-1a1e-4392-add2-a592519b757d"
      },
      "execution_count": 22,
      "outputs": [
        {
          "output_type": "stream",
          "name": "stdout",
          "text": [
            "6\n"
          ]
        }
      ]
    },
    {
      "cell_type": "code",
      "source": [
        "\n",
        "try:\n",
        "  print(c)\n",
        "except NameError:\n",
        "  print(\"Name Error Here\")"
      ],
      "metadata": {
        "colab": {
          "base_uri": "https://localhost:8080/"
        },
        "id": "oDTCpHkz9HAG",
        "outputId": "4202314b-75ea-447c-8e95-7384fda33a04"
      },
      "execution_count": 27,
      "outputs": [
        {
          "output_type": "stream",
          "name": "stdout",
          "text": [
            "Name Error Here\n"
          ]
        }
      ]
    },
    {
      "cell_type": "markdown",
      "source": [
        "#ClassWork"
      ],
      "metadata": {
        "id": "PydXTLT6985r"
      }
    },
    {
      "cell_type": "markdown",
      "source": [
        "Write a Python program to read a text file named story. txt and count the number of words in it. Handle the case where the file is missing. Assume words are separated by spaces."
      ],
      "metadata": {
        "id": "hXxhLDOq9_qN"
      }
    },
    {
      "cell_type": "code",
      "source": [
        "f= open(\"story.txt\",\"r\")\n",
        "content = f.read()\n",
        "words = content.split()\n",
        "word_count = (len(words))\n",
        "print(f\"The number of words in story.txt is: {word_count}\")\n",
        "f.close()"
      ],
      "metadata": {
        "colab": {
          "base_uri": "https://localhost:8080/"
        },
        "id": "toM2-brB-iN6",
        "outputId": "22bb8c42-2d40-4fbe-8885-71a13f7e3182"
      },
      "execution_count": 19,
      "outputs": [
        {
          "output_type": "stream",
          "name": "stdout",
          "text": [
            "The number of words in story.txt is: 5\n"
          ]
        }
      ]
    },
    {
      "cell_type": "markdown",
      "source": [
        "Create a Python program that reads a file named numbers. txt containing one number per line. Calculate the sum of these numbers and print it. Handle cases where the file is missing or contains non-numeric data."
      ],
      "metadata": {
        "id": "ZwYV3BMFAmd7"
      }
    },
    {
      "cell_type": "code",
      "source": [
        "f= open(\"numbers.txt\",\"r\")\n",
        "content = f.readline()\n",
        "sum = 0\n",
        "for i in content:\n",
        "  sum = sum + int(i)\n",
        "print(sum)\n",
        "f.close()"
      ],
      "metadata": {
        "colab": {
          "base_uri": "https://localhost:8080/"
        },
        "id": "u9xirVo3AoFC",
        "outputId": "bd685299-0352-4008-d0e5-67f26422fe93"
      },
      "execution_count": 20,
      "outputs": [
        {
          "output_type": "stream",
          "name": "stdout",
          "text": [
            "0\n"
          ]
        }
      ]
    }
  ]
}