{
  "nbformat": 4,
  "nbformat_minor": 0,
  "metadata": {
    "colab": {
      "provenance": []
    },
    "kernelspec": {
      "name": "python3",
      "display_name": "Python 3"
    },
    "language_info": {
      "name": "python"
    }
  },
  "cells": [
    {
      "cell_type": "markdown",
      "source": [
        "#String Manipulation"
      ],
      "metadata": {
        "id": "RkAKxLgWADU1"
      }
    },
    {
      "cell_type": "code",
      "source": [
        "#creating a variabe named text which contains leading and trailing spaces\n",
        "text = \"    Hello Python   \"\n",
        "print(text)\n",
        "\n",
        "#using .lower() methos/function to introduce lowercase\n",
        "print(text.lower())\n",
        "\n",
        "#using .strip() method/function to remove leading space\n",
        "print(text.strip())\n",
        "\n",
        "#using .replace() method/function to remove existing word into new\n",
        "print(text.replace(\"Python\",\"Java\"))\n",
        "\n",
        "#SPLITTING AND JOINING\n",
        "#method/function chaining\n",
        "splitted = text.strip().split()\n",
        "print(splitted)\n",
        "\n",
        "#using .join() method to join the separated words\n",
        "joined = '-'.join(splitted)\n",
        "print(joined)"
      ],
      "metadata": {
        "colab": {
          "base_uri": "https://localhost:8080/"
        },
        "id": "x1O29ue0ARoq",
        "outputId": "19e26135-1793-4131-d116-b2616011ce2e"
      },
      "execution_count": null,
      "outputs": [
        {
          "output_type": "stream",
          "name": "stdout",
          "text": [
            "    Hello Python   \n",
            "    hello python   \n",
            "Hello Python\n",
            "    Hello Java   \n",
            "['Hello', 'Python']\n",
            "Hello-Python\n"
          ]
        }
      ]
    },
    {
      "cell_type": "code",
      "execution_count": null,
      "metadata": {
        "id": "q8vQBt268ump"
      },
      "outputs": [],
      "source": []
    },
    {
      "cell_type": "markdown",
      "source": [
        "#MODULAR PROGRAMAMING IN PYTHON"
      ],
      "metadata": {
        "id": "EtFmmZ3UCuMb"
      }
    },
    {
      "cell_type": "code",
      "source": [
        "#importing math module\n",
        "import math\n",
        "\n",
        "#getting sqaure root of 25\n",
        "square_root = math.sqrt(25)\n",
        "print(\"The square root of 25 is\",int(square_root))\n",
        "\n",
        "#flooring and Ceiling\n",
        "floor = math.floor(4.8)\n",
        "print(floor)\n",
        "\n",
        "ceil = math.ceil(4.8)\n",
        "print(ceil)"
      ],
      "metadata": {
        "colab": {
          "base_uri": "https://localhost:8080/"
        },
        "id": "K_sAKEnFCx5c",
        "outputId": "92977300-7ea4-4cd8-a0ac-5368204ed98b"
      },
      "execution_count": null,
      "outputs": [
        {
          "output_type": "stream",
          "name": "stdout",
          "text": [
            "The square root of 25 is 5\n",
            "4\n",
            "5\n"
          ]
        }
      ]
    },
    {
      "cell_type": "code",
      "source": [],
      "metadata": {
        "id": "6geqTkCyDACQ"
      },
      "execution_count": null,
      "outputs": []
    },
    {
      "cell_type": "markdown",
      "source": [
        "#Module Aliasing"
      ],
      "metadata": {
        "id": "hyUzuaQ-EKLN"
      }
    },
    {
      "cell_type": "code",
      "source": [
        "# import matplotlib.pyplot as plt"
      ],
      "metadata": {
        "id": "-tuZIsxPENdJ"
      },
      "execution_count": null,
      "outputs": []
    },
    {
      "cell_type": "markdown",
      "source": [
        "#Variable Aliasing"
      ],
      "metadata": {
        "id": "BBI8fY4YEa7t"
      }
    },
    {
      "cell_type": "code",
      "source": [
        "a = [1,2,3]\n",
        "b = a\n",
        "b.append(4)\n",
        "print(b)\n",
        "print(a)"
      ],
      "metadata": {
        "colab": {
          "base_uri": "https://localhost:8080/"
        },
        "id": "HW8kucsjEfv0",
        "outputId": "1325bb81-e56e-4b2b-9efb-882013b004ab"
      },
      "execution_count": null,
      "outputs": [
        {
          "output_type": "stream",
          "name": "stdout",
          "text": [
            "[1, 2, 3, 4]\n",
            "[1, 2, 3, 4]\n"
          ]
        }
      ]
    },
    {
      "cell_type": "code",
      "source": [],
      "metadata": {
        "id": "p5ZeF9tiEzsr"
      },
      "execution_count": null,
      "outputs": []
    },
    {
      "cell_type": "markdown",
      "source": [
        "#Function/method Aliasing - Homework"
      ],
      "metadata": {
        "id": "li18HLoKFC0d"
      }
    },
    {
      "cell_type": "markdown",
      "source": [
        "# Randoms in Python"
      ],
      "metadata": {
        "id": "RF0X3bkfFNsD"
      }
    },
    {
      "cell_type": "code",
      "source": [
        "#fixed digit - integer\n",
        "import random as rdn\n",
        "print(rdn.randint(1,10))"
      ],
      "metadata": {
        "colab": {
          "base_uri": "https://localhost:8080/"
        },
        "id": "C9Uz7_IXFUdh",
        "outputId": "217c5e30-3112-4072-c127-f44ab5ebde92"
      },
      "execution_count": null,
      "outputs": [
        {
          "output_type": "stream",
          "name": "stdout",
          "text": [
            "8\n"
          ]
        }
      ]
    },
    {
      "cell_type": "code",
      "source": [
        "#floating number\n",
        "random_float = rdn.random()\n",
        "print(random_float)"
      ],
      "metadata": {
        "colab": {
          "base_uri": "https://localhost:8080/"
        },
        "id": "cQZyLUGtFlz_",
        "outputId": "4edec8ce-d3ff-4e04-f53e-278ce49d80a6"
      },
      "execution_count": null,
      "outputs": [
        {
          "output_type": "stream",
          "name": "stdout",
          "text": [
            "0.2873359616010701\n"
          ]
        }
      ]
    },
    {
      "cell_type": "code",
      "source": [
        "random_floating_in_range = rdn.uniform(10.5,99.5)\n",
        "print(random_floating_in_range)\n",
        "\n",
        "#HOMEWORK: EXPLORE MORE MODULES OR FUNCTIONS/METHODS"
      ],
      "metadata": {
        "colab": {
          "base_uri": "https://localhost:8080/"
        },
        "id": "WbFn8nFTFxw2",
        "outputId": "a149694c-1f13-4c16-a899-62c7fbd358db"
      },
      "execution_count": null,
      "outputs": [
        {
          "output_type": "stream",
          "name": "stdout",
          "text": [
            "36.966143853964326\n"
          ]
        }
      ]
    },
    {
      "cell_type": "markdown",
      "source": [
        "Module: math\n",
        "\n",
        "math.sqrt(x) – square root\n",
        "\n",
        "math.pow(x, y) – x raised to power y\n",
        "\n",
        "math.factorial(x) – factorial\n",
        "\n",
        "math.log(x, base) – logarithm"
      ],
      "metadata": {
        "id": "Xe_QoPCVW8-f"
      }
    },
    {
      "cell_type": "markdown",
      "source": [
        "Module: random\n",
        "\n",
        "random.randint(a, b) – random integer in [a, b]\n",
        "\n",
        "random.random() – float in [0.0, 1.0)\n",
        "\n",
        "random.shuffle(list) – shuffle list in place\n",
        "\n",
        "random.sample(population, k) – k unique samples"
      ],
      "metadata": {
        "id": "sQ9WXh3TW_TI"
      }
    },
    {
      "cell_type": "code",
      "source": [],
      "metadata": {
        "id": "SzKS-Fv0GMar"
      },
      "execution_count": null,
      "outputs": []
    },
    {
      "cell_type": "markdown",
      "source": [
        "#creating custom modules in python"
      ],
      "metadata": {
        "id": "HaZM0zwuG1oo"
      }
    },
    {
      "cell_type": "code",
      "source": [
        "#helper.py\n",
        "%%writefile helper123.py\n",
        "def add_numbers(a,b):\n",
        "  return a+b"
      ],
      "metadata": {
        "colab": {
          "base_uri": "https://localhost:8080/"
        },
        "id": "6n2aq-BhG8Fo",
        "outputId": "06638c9e-6a7c-4ab6-b03c-c89061e1cadc"
      },
      "execution_count": null,
      "outputs": [
        {
          "output_type": "stream",
          "name": "stdout",
          "text": [
            "Writing helper123.py\n"
          ]
        }
      ]
    },
    {
      "cell_type": "code",
      "source": [
        "#main.py\n",
        "import helper123\n",
        "result = helper123.add_numbers(15,14)\n",
        "print(result)"
      ],
      "metadata": {
        "colab": {
          "base_uri": "https://localhost:8080/"
        },
        "id": "yG9XssqoHKOf",
        "outputId": "5081cfa6-fa77-4315-c70f-e0a65854f18b"
      },
      "execution_count": null,
      "outputs": [
        {
          "output_type": "stream",
          "name": "stdout",
          "text": [
            "29\n"
          ]
        }
      ]
    },
    {
      "cell_type": "code",
      "source": [],
      "metadata": {
        "id": "UrYIXqzoHn8I"
      },
      "execution_count": null,
      "outputs": []
    },
    {
      "cell_type": "markdown",
      "source": [
        "#Homework"
      ],
      "metadata": {
        "id": "sGFQRanCQmXj"
      }
    },
    {
      "cell_type": "markdown",
      "source": [
        "Import math and calculate sine of 30 degrees using math.sin(math.radians(30))."
      ],
      "metadata": {
        "id": "mzWiiDzPQpaD"
      }
    },
    {
      "cell_type": "code",
      "source": [
        "import math\n",
        "sine_30 = math.sin(math.radians(30))\n",
        "print(sine_30)"
      ],
      "metadata": {
        "colab": {
          "base_uri": "https://localhost:8080/"
        },
        "id": "rHC-yhbKQtLP",
        "outputId": "1c118aed-5a23-4010-a41a-540047d6d171"
      },
      "execution_count": null,
      "outputs": [
        {
          "output_type": "stream",
          "name": "stdout",
          "text": [
            "0.49999999999999994\n"
          ]
        }
      ]
    },
    {
      "cell_type": "code",
      "source": [],
      "metadata": {
        "id": "UArnIRkQRBDW"
      },
      "execution_count": null,
      "outputs": []
    },
    {
      "cell_type": "markdown",
      "source": [
        "Import random as rng and generate a random integer between 50-75"
      ],
      "metadata": {
        "id": "FcTq0xeqRJfJ"
      }
    },
    {
      "cell_type": "code",
      "source": [
        "import random as rng\n",
        "print(rng.randint(50,75))\n"
      ],
      "metadata": {
        "colab": {
          "base_uri": "https://localhost:8080/"
        },
        "id": "q-WqyizdRKhI",
        "outputId": "f0ebe101-e8c5-4f08-c7aa-cdda2092cf6b"
      },
      "execution_count": null,
      "outputs": [
        {
          "output_type": "stream",
          "name": "stdout",
          "text": [
            "62\n"
          ]
        }
      ]
    },
    {
      "cell_type": "code",
      "source": [],
      "metadata": {
        "id": "reW92cyWRb0h"
      },
      "execution_count": null,
      "outputs": []
    },
    {
      "cell_type": "markdown",
      "source": [
        "Create calc.py with square function, import and print square of 8"
      ],
      "metadata": {
        "id": "-zoaJajJRvrG"
      }
    },
    {
      "cell_type": "code",
      "source": [
        "#calc1.py\n",
        "%%writefile calc1.py\n",
        "def square(a):\n",
        "  return a * a"
      ],
      "metadata": {
        "colab": {
          "base_uri": "https://localhost:8080/"
        },
        "id": "yUTu7CsvRwgR",
        "outputId": "7f9e7c47-773e-4d5f-f1dc-a27b3f1a480c"
      },
      "execution_count": null,
      "outputs": [
        {
          "output_type": "stream",
          "name": "stdout",
          "text": [
            "Writing calc1.py\n"
          ]
        }
      ]
    },
    {
      "cell_type": "code",
      "source": [
        "#main.py\n",
        "import calc1\n",
        "result = calc1.square(8)\n",
        "print(result)"
      ],
      "metadata": {
        "colab": {
          "base_uri": "https://localhost:8080/"
        },
        "id": "tVIk-thMSDZ8",
        "outputId": "869d56f6-bfcb-463b-bcb1-033aac5e0052"
      },
      "execution_count": null,
      "outputs": [
        {
          "output_type": "stream",
          "name": "stdout",
          "text": [
            "64\n"
          ]
        }
      ]
    },
    {
      "cell_type": "markdown",
      "source": [
        "Import choice from random, pick from fruits list '\"Mango\" \"Apple\" \"Grape\"]."
      ],
      "metadata": {
        "id": "QR_Dk8bnUZ0I"
      }
    },
    {
      "cell_type": "code",
      "source": [
        "from random import choice\n",
        "fruits = [\"Mango\", \"Apple\", \"Grape\"]\n",
        "random_fruits = choice(fruits)\n",
        "print(random_fruits)"
      ],
      "metadata": {
        "colab": {
          "base_uri": "https://localhost:8080/"
        },
        "id": "A6l4KV5JUhIv",
        "outputId": "cda2c18a-4d41-412b-8a62-064ebeb282db"
      },
      "execution_count": null,
      "outputs": [
        {
          "output_type": "stream",
          "name": "stdout",
          "text": [
            "Grape\n"
          ]
        }
      ]
    },
    {
      "cell_type": "code",
      "source": [],
      "metadata": {
        "id": "rTNZo03SVLEd"
      },
      "execution_count": null,
      "outputs": []
    }
  ]
}